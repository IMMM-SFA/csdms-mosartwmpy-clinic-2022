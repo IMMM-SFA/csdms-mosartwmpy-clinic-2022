{
 "cells": [
  {
   "cell_type": "markdown",
   "id": "78e9bd57-3f83-4683-85e8-614a68f274ba",
   "metadata": {},
   "source": [
    "**Modeling Water Movement and Reservoir Operations with *mosartwmpy***\n",
    "<br>\n",
    "CSDMS 2022: Environmental Extremes and Earthscape Evolution (E4)\n",
    "<br>\n",
    "18 May 2022\n",
    "\n",
    "Travis Thurber \\<travis.thurber@pnnl.gov\\>\n",
    "<br>\n",
    "Chris Vernon \\<chris.vernon@pnnl.gov\\>\n",
    "<br>\n",
    "Pacific Northwest National Laboratory (PNNL)\n",
    "\n",
    "<br>\n",
    "<br>"
   ]
  },
  {
   "cell_type": "markdown",
   "id": "7195187d-5a44-4316-aa95-ccd814f60fea",
   "metadata": {},
   "source": [
    "**Goals**\n",
    "\n",
    "* Learn the basics of configuring and running the `mosartwmpy` model\n",
    "* Learn how to Visualize `mosartwmpy` output data\n",
    "* Study the historical drought of the early 21st-century (1998 - 2014)\n",
    "* Compare the water deficit during this drought with the US Drought Monitor figure:\n",
    "\n",
    "<img src=\"drought_20120925_usdm.png\" alt=\"USDM Sep 2012\" width=720>\n",
    "\n",
    "\n",
    "<br>\n",
    "<br>"
   ]
  },
  {
   "cell_type": "markdown",
   "id": "70ec3cf4-b716-45e4-ad91-af83628715c1",
   "metadata": {},
   "source": [
    "**Acknowledgements**\n",
    "\n",
    "* [**MSD-LIVE**](https://msdlive.org/) is building a collaborative data and computational platform for the MultiSector Dynamics community. They have provided today's Jupyter environment.\n",
    "* [**IM3**](https://im3.pnnl.gov) develops innovative modeling to explore how human and natural landscapes in the USA co-evolve in response to short-term shocks and long-term influences. They currently fund `mosartwmpy` development.\n",
    "* [**CSDMS**](https://csdms.colorado.edu/wiki/Main_Page) supports the Earth systems modeling community by disseminating integrated software modules. They host today's clinic 🤓.\n",
    "<br>\n",
    "<br>"
   ]
  },
  {
   "cell_type": "markdown",
   "id": "513842a1-6981-4368-9128-d8fbd7f4c3cf",
   "metadata": {},
   "source": [
    "***mosartwmpy***\n",
    "\n",
    "[`mosartwmpy`](https://mosartwmpy.readthedocs.io/en/latest/) is a large-scale water routing and reservoir management model written in Python, translated from the FORTRAN version known as MOSART-WM (which stands for Model Of Scale Adaptive River Transport and Water Management). `mosartwmpy` implements the Basic Model Interface (BMI), a common set of methods for controlling a model that is likely familiar to members of the CSDMS community. For configuration, `mosartwmpy` reads a single YAML file that extends sensible defaults. The typical grid cell resolution is 1/8 degree across the conterminous United States, with a temporal output resolution of 3 hour timesteps. Output includes water levels and flow at each grid cell and in each reservoir, as well as water supply and deficit at each grid cell.\n",
    "\n",
    "`mosartwmpy` is best used to study fundamental science questions inspecting general trends of how the water system may evolve into the future under different scenarios, and is not meant to replace high resolution applied models.\n",
    "\n",
    "Active research topics involving the model includes:\n",
    "* drought and water deficit\n",
    "* reservoir release policies\n",
    "* farmer crop choices\n",
    "* hydropower\n",
    "<br>\n",
    "<br>"
   ]
  },
  {
   "cell_type": "markdown",
   "id": "4f005b0f-aa4d-46d7-9b67-4c9db237ae47",
   "metadata": {},
   "source": [
    "**Input**\n",
    "\n",
    "`mosartwmpy` expects gridded input data--and provides gridded output data--in the WGS84 (EPSG 4326) projection. Data is typically provided and generated at 1/8 degree spatial resolution, though other resolutions can work if provided consistently throughout the input files.\n",
    "\n",
    "Several input datasets are required:\n",
    "\n",
    "| Name | Description | Sample File |\n",
    "| ---- | ----------- | ----------- |\n",
    "| Domain and river network parameters | NetCDF file that specifies the flow direction, land and channel properties, and coordinates of each grid cell | mosartwmpy_river_parameters.nc |\n",
    "| Runoff timeseries | NetCDF file(s) that specifies the surface and subsurface runoff at each grid cell over time in mm/s | mosartwmpy_runoff_1980_2019.nc |\n",
    "| Demand timeseries | NetCDF file(s) that specifies the consumptive water demand at each grid cell over time in m<sup>3</sup>/s | mosartwmpy_demand_1980_2019.nc |\n",
    "| Dam/reservoir parameters | NetCDF file that specifies the dam/reservoir properties and grid cell location | mosartwmpy_reservoir_parameters.nc |\n",
    "| Dam monthly mean flow | Parquet file that specifies the long term naturalized mean flow by month at each dam | mosartwmpy_dam_mean_monthly_flow.parquet |\n",
    "| Reservoir monthly mean demand | Parquet file that specifies the long term mean demand by month for the water in each reservoir | mosartwmpy_reservoir_mean_monthly_demand.parquet |\n",
    "| Reservoir dependency database | Parquet file that specifies which reservoirs each grid cell can consume water from | mosartwmpy_reservoir_dependency_database.parquet |\n",
    "\n",
    "<br>\n",
    "<br>"
   ]
  },
  {
   "cell_type": "markdown",
   "id": "83454d31-24c9-4c41-8958-5f61f3f77bfd",
   "metadata": {},
   "source": [
    "**Integrations**\n",
    "\n",
    "`mosartwmpy` can integrate with other models that provide surface/subsurface runoff or water demand. Historically this has often meant [VIC](https://vic.readthedocs.io/en/master/) or [CLM](https://www.cesm.ucar.edu/models/clm/) for runoff, and [GCAM](http://www.globalchange.umd.edu/gcam/) for water demand.\n",
    "\n",
    "<mark style=\"padding: 2px 3px;\">**TODO: modflow? statemod?**</mark>"
   ]
  },
  {
   "cell_type": "markdown",
   "id": "75d1fc52-9122-48bb-bcbe-ec0b4429b62a",
   "metadata": {},
   "source": [
    "**About the Model**\n",
    "\n",
    "Simplified flow diagram:\n",
    "\n",
    "<img src=\"wmpy_flow.png\" alt=\"mosartwmpy flow diagram\" width=720>\n",
    "\n",
    "<br>\n",
    "\n",
    "Geospatial view of the grid cells relating to Hoover Dam and the Lower Colorado:\n",
    "<br>\n",
    "> Red dot: Hoover Dam / Lake Mead grid cell\n",
    "> <br>\n",
    "> Blue highlight: Grid cell path of river channel leaving the Hoover Dam\n",
    "> <br>\n",
    "> Green highlight: Grid cells allowed to consume water from Lake Mead\n",
    "> <br>\n",
    "> Gray border: Other grid cells in the Lower Colorado Basin\n",
    "\n",
    "<img src=\"hoover.png\" alt=\"hoover domain\" width=720>\n",
    "\n",
    "<br>\n",
    "<br>"
   ]
  },
  {
   "cell_type": "markdown",
   "id": "70c15f80-5226-4230-ad34-faafdf9f26ed",
   "metadata": {},
   "source": [
    "<mark style=\"padding: 2px 3px;\">**TODO: ADD CORNER GRID CELLS**</mark>"
   ]
  },
  {
   "cell_type": "markdown",
   "id": "f419b8fe-938c-4025-9948-5264123b451e",
   "metadata": {},
   "source": [
    "**Installation**\n",
    "\n",
    "For this clinic, `mosartwmpy` is already installed into the Jupyter environment so you don't have to worry about it.\n",
    "\n",
    "But for reference, there are three ways to install `mosartwmpy`:\n",
    "\n",
    "* pip: `pip install mosartmpwy`\n",
    "* conda: `conda install -c conda-forge mosartwmpy`\n",
    "* docker (experimental): `docker pull thurber/mosartwmpy:latest`\n",
    "* GitHub: https://github.com/IMMM-SFA/mosartwmpy\n",
    "\n",
    "<br>\n",
    "<br>"
   ]
  },
  {
   "cell_type": "markdown",
   "id": "fb05f085-71b1-44c2-b77a-eea2ad86a559",
   "metadata": {},
   "source": [
    "**Configuration**\n",
    "\n",
    "`mosartwmpy` model runs are defined by the merger of the [default configuration](https://github.com/IMMM-SFA/mosartwmpy/blob/main/mosartwmpy/config_defaults.yaml) and the user configuration YAML file. This means you only need to specify configuration options that you want to change from their defaults--typically just a name and dates for the desired simulation period and the paths to the input files.\n",
    "\n",
    "For instance, a basic user configuration file might look like this:\n",
    "\n",
    "<br>\n",
    "\n",
    "`my_config.yaml`\n",
    "```yaml\n",
    "simulation:\n",
    "    name: My Simulation\n",
    "    output_path: .\n",
    "    restart_file: ~\n",
    "    start_date: 1980-01-01\n",
    "    end_date: 1980-01-31\n",
    "\n",
    "grid:\n",
    "  path: ./mosartwmpy_river_parameters.nc\n",
    "\n",
    "runoff:\n",
    "  path: ./mosartwmpy_runoff_1980_2019.nc\n",
    "\n",
    "water_management:\n",
    "  enabled: true\n",
    "  demand:\n",
    "    path: ./mosartwmpy_demand_1980_2019.nc\n",
    "  reservoirs:\n",
    "    parameters:\n",
    "      path: ./mosartwmpy_reservoir_parameters.nc\n",
    "    dependencies:\n",
    "      path: ./mosartwmpy_reservoir_dependency_database.parquet\n",
    "    streamflow:\n",
    "      path: ./mosartwmpy_dam_mean_monthly_flow.parquet\n",
    "    demand:\n",
    "      path: ./mosartwmpy_reservoir_mean_monthly_demand.parquet\n",
    "```\n",
    "\n",
    "<br>\n",
    "\n",
    "<mark style=\"padding: 2px 3px;\">**Let's create a configuration file together to use for this clinic!**</mark>\n",
    "\n",
    "\n",
    "<br>\n",
    "<br>"
   ]
  },
  {
   "cell_type": "markdown",
   "id": "8c7a7049-ab6a-47f3-92e4-fbe799abc7fb",
   "metadata": {},
   "source": [
    "<mark style=\"padding: 2px 3px;\">**TODO: provide a version of the notebook with the completed code.**</mark>"
   ]
  },
  {
   "cell_type": "markdown",
   "id": "008099b5-05db-4bb7-9950-1e3c552ca15d",
   "metadata": {},
   "source": [
    "**Running the Model**\n",
    "\n",
    "<mark style=\"padding: 2px 3px;\">**Let's practice running the `mosartwmpy` model together!**</mark>\n"
   ]
  },
  {
   "cell_type": "code",
   "execution_count": null,
   "id": "eba7c0e2-6bbd-46cd-bbde-63189fa7b855",
   "metadata": {},
   "outputs": [],
   "source": [
    "from mosartwmpy import Model\n",
    "\n",
    "# Our code will go here!\n",
    "\n",
    "# 1) Create a Model instance\n",
    "\n",
    "# 2) Initialize the Model instance using our configuration file\n",
    "\n",
    "# 3) Run for a single timestep\n",
    "\n",
    "# 4) Run until the end of the first month\n"
   ]
  },
  {
   "cell_type": "markdown",
   "id": "a1c34060-5d37-45aa-9e90-1e9bad4dc1b2",
   "metadata": {},
   "source": [
    "<mark style=\"padding: 2px 3px;\">**TODO: break a simulation in real time to show the value of restart files (i.e. set up the model to create a restart file after the first month or smth)**</mark>"
   ]
  },
  {
   "cell_type": "markdown",
   "id": "947efedd-f88e-42e5-a3c0-ee5dafff1450",
   "metadata": {},
   "source": [
    "<br>\n",
    "\n",
    "<mark style=\"padding: 2px 3px;\">**Let's learn about restart files!**</mark>"
   ]
  },
  {
   "cell_type": "code",
   "execution_count": null,
   "id": "7883dc13-23eb-4e43-8b81-a90ceee90e4d",
   "metadata": {},
   "outputs": [],
   "source": [
    "# 1) Update the configuration file to include a restart file\n",
    "\n",
    "# 2) Update the start and end dates to reflect the time period implied by the restart file\n",
    "\n",
    "# 3) Create, initialize, and run a new Model instance!"
   ]
  },
  {
   "cell_type": "markdown",
   "id": "c85ef00f-0139-406e-8f7f-c885e143b871",
   "metadata": {},
   "source": [
    "<br>\n",
    "<br>"
   ]
  },
  {
   "cell_type": "markdown",
   "id": "b5875233-e3ea-4f01-9d04-642ac7263ab8",
   "metadata": {},
   "source": [
    "**Processing Output**\n",
    "\n",
    "<mark style=\"padding: 2px 3px;\">**Let's visualize `mosartwmpy` output!**</mark>\n"
   ]
  },
  {
   "cell_type": "code",
   "execution_count": null,
   "id": "d2fbb7c6-02bb-4cd3-9b93-7bc9d5ae12ab",
   "metadata": {},
   "outputs": [],
   "source": [
    "# 1) get a list of model output variables using the BMI's `get_output_var_names()` method\n",
    "\n",
    "# 2) get the flattened numpy.ndarray of values for an output variable using the BMI's `get_value_ptr()` method\n",
    "\n",
    "# 3) plot the instantaneous values of an output variable using the Model's `plot_variable()` method\n",
    "\n",
    "\n",
    "\n",
    "from mosartwmpy.plotting.plot import plot_reservoir, plot_variable\n",
    "\n",
    "# 4) plot a reservoir's behavior using mosartwmpy's utility method\n",
    "\n",
    "# 5) create an interactive timeseries plot of an output variable using mosartwmpy's utility method\n"
   ]
  },
  {
   "cell_type": "markdown",
   "id": "76645d76-7507-4104-a7e1-e1730bd239ce",
   "metadata": {},
   "source": [
    "<br>\n",
    "<br>"
   ]
  },
  {
   "cell_type": "markdown",
   "id": "66a08a72-f7cd-4f69-925b-e6a61c1dd944",
   "metadata": {},
   "source": [
    "**Visualizing the Historical 21st-Century Drought**\n",
    "\n",
    "<mark style=\"padding: 2px 3px;\">**Let's use the provided simulation output to recreate the Drought Monitor visualization**</mark>"
   ]
  },
  {
   "cell_type": "code",
   "execution_count": null,
   "id": "b7524083-b89c-4eda-8ef5-d0089d767ddd",
   "metadata": {},
   "outputs": [],
   "source": [
    "import xarray as xr\n",
    "import numpy as np\n",
    "import matplotlib.pyplot as plt\n",
    "import cartopy.crs as ccrs\n",
    "import cartopy.feature as cfeature"
   ]
  },
  {
   "cell_type": "code",
   "execution_count": null,
   "id": "e637d6dc-4f38-4b9f-9735-6107bbdc6e5f",
   "metadata": {},
   "outputs": [],
   "source": [
    "# wildcard path to the simulation output files\n",
    "simulation_output_glob = './mosartwmpy_output/*.nc'\n",
    "\n",
    "# variable name of the water deficit in the output files\n",
    "water_deficit_variable = 'WRM_DEFICIT'\n",
    "\n",
    "# variable name of the time dimension\n",
    "time_variable = 'time'\n"
   ]
  },
  {
   "cell_type": "code",
   "execution_count": null,
   "id": "6999aec9-2ff3-42c0-abe8-96857e2f7646",
   "metadata": {},
   "outputs": [],
   "source": [
    "# open the data using xarray\n",
    "simulation_output = xr.open_mfdataset(simulation_output_glob)\n"
   ]
  },
  {
   "cell_type": "code",
   "execution_count": null,
   "id": "7991eaed-543f-4d05-a9c1-27dc6471ac8e",
   "metadata": {},
   "outputs": [],
   "source": [
    "# calculate the mean and standard deviation of the water deficit over the entire simulation\n",
    "deficit_mean = simulation_output[water_deficit_variable].mean(dim=time_variable).compute()\n",
    "deficit_std = simulation_output[water_deficit_variable].std(dim=time_variable).compute()\n"
   ]
  },
  {
   "cell_type": "code",
   "execution_count": null,
   "id": "a3d26601-1f55-4a81-979b-4c2043c017c8",
   "metadata": {},
   "outputs": [],
   "source": [
    "# for simplicity, resample the deficit to the yearly mean\n",
    "# note that this resampling somewhat obfuscates just how intense the drought was in the summer months!\n",
    "deficit_by_year = simulation_output[[water_deficit_variable]].resample({ time_variable: '1y' }).mean(time_variable).compute()\n"
   ]
  },
  {
   "cell_type": "code",
   "execution_count": null,
   "id": "3767bbbc-66a9-46c9-b6c3-c6bc9b1dd57d",
   "metadata": {},
   "outputs": [],
   "source": [
    "# let's define the deficit intensity as standard deviations worse than the mean\n",
    "deficit_intensity = ((deficit_by_year[water_deficit_variable] - deficit_mean) / deficit_std).clip(0)\n"
   ]
  },
  {
   "cell_type": "markdown",
   "id": "7d3e6fa6-34a7-40c4-ba6b-61a8cd18ebc2",
   "metadata": {},
   "source": [
    "<mark style=\"padding: 2px 3px;\">**TODO: ask Sean about the validity of this technique/metric**</mark>"
   ]
  },
  {
   "cell_type": "code",
   "execution_count": null,
   "id": "6c2cb5c2-360f-464e-b5ea-382d7b6c0ffb",
   "metadata": {},
   "outputs": [],
   "source": [
    "# a method to plot the deficit intensity over multiple years\n",
    "def plot_deficit_intensity(\n",
    "    deficit_intensity,\n",
    "    start_time,\n",
    "    end_time,\n",
    "    time_variable='time',\n",
    "    buckets=[0, 0.2, 0.4, 0.6, 0.8, 1],\n",
    "    colors=['none', '#fffc54', '#f5d38a', '#e49724', '#d42c1f', '#69110a'],\n",
    "    figsize=(20,20),\n",
    "    col_wrap=5,\n",
    "    include_month=False,\n",
    "):\n",
    "    \n",
    "    subset = deficit_intensity.sel({ time_variable: slice(start_time, end_time) })\n",
    "    \n",
    "    facets = subset.plot(\n",
    "        colors=colors,\n",
    "        levels=buckets,\n",
    "        col=time_variable,\n",
    "        col_wrap=col_wrap,\n",
    "        cbar_kwargs={'label': 'Standard deviations worse than the mean deficit', 'aspect': 40, 'orientation': 'horizontal', 'location': 'top'},\n",
    "        subplot_kws={'projection': ccrs.PlateCarree()},\n",
    "        figsize=figsize\n",
    "    )\n",
    "    \n",
    "    for i in range(len(subset[time_variable])):\n",
    "        \n",
    "        t = subset.isel({ time_variable: i })[time_variable].dt.date.values[()]\n",
    "        \n",
    "        ax = facets.axes.flatten()[i]\n",
    "        \n",
    "        ax.set_title(f'{t.year}' + (f'-{t.month}' if include_month else ''))\n",
    "        \n",
    "        ax.add_feature(cfeature.NaturalEarthFeature(\n",
    "            'physical', 'coastline', scale='50m',\n",
    "            edgecolor='black', facecolor='none', alpha=0.75))\n",
    "        \n",
    "        ax.add_feature(cfeature.NaturalEarthFeature(\n",
    "            'cultural', 'admin_0_boundary_lines_land', scale='50m',\n",
    "            edgecolor='gray', facecolor='none', alpha=0.75))\n",
    "        \n",
    "        ax.add_feature(cfeature.NaturalEarthFeature(\n",
    "            'cultural', 'admin_1_states_provinces_lines', scale='50m',\n",
    "            edgecolor='gray', facecolor='none', alpha=0.75))\n",
    "        \n",
    "        ax.add_feature(cfeature.NaturalEarthFeature(\n",
    "            'physical', 'lakes', scale='50m',\n",
    "            edgecolor='lightblue', facecolor='lightblue', alpha=0.5))\n",
    "        \n",
    "        ax.add_feature(cfeature.NaturalEarthFeature(\n",
    "            'physical', 'rivers_lake_centerlines', scale='50m',\n",
    "            edgecolor='lightblue', facecolor='none', alpha=0.75))\n",
    "        \n",
    "        # if t.year == 2012:\n",
    "        #     for spine in ax.spines.values():\n",
    "        #         spine.set_edgecolor('red')\n",
    "        \n",
    "    facets.fig.suptitle(f'Deficit Intensity', fontsize=28)\n"
   ]
  },
  {
   "cell_type": "code",
   "execution_count": null,
   "id": "73292a55-8bef-4645-a0c0-8c3ef44dd747",
   "metadata": {},
   "outputs": [],
   "source": [
    "# let's see how it looks!\n",
    "plot_deficit_intensity(deficit_intensity, '1995', '2019')\n"
   ]
  },
  {
   "cell_type": "code",
   "execution_count": null,
   "id": "ab52c589-15f0-405a-9054-590e401cfff2",
   "metadata": {},
   "outputs": [],
   "source": [
    "# Let's look at the monthtly breakdown for 2012:\n",
    "deficit_2012 = simulation_output[[water_deficit_variable]].sel({ time_variable: '2012' }).resample({ time_variable: '1M' }).mean(time_variable).compute()\n",
    "intensity_2012 = ((deficit_2012[water_deficit_variable] - deficit_mean) / deficit_std).clip(0)\n",
    "plot_deficit_intensity(intensity_2012, '2012-01', '2012-12', buckets=[0, 0.5, 1, 1.5, 2, 2.5], figsize=(20,10), col_wrap=6, include_month=True)"
   ]
  },
  {
   "cell_type": "markdown",
   "id": "35edb3c3-bde8-4ddb-af25-ec1df1ba0db4",
   "metadata": {},
   "source": [
    "Here's the drought monitor image again for reference:\n",
    "\n",
    "<img src=\"drought_20120925_usdm.png\" alt=\"USDM Sep 2012\" width=720>\n",
    "\n",
    "\n",
    "<br>\n",
    "<br>"
   ]
  },
  {
   "cell_type": "markdown",
   "id": "6129fd68-a4a4-48b3-8344-3d99d52d293f",
   "metadata": {},
   "source": [
    "<mark style=\"padding: 2px 3px;\">**TODO: What kind of drought is Drought Monitor showing? hydrologic? atmospheric? i.e. why is the Missouri river area not showing up in our metric?**</mark>"
   ]
  },
  {
   "cell_type": "markdown",
   "id": "b4ba2e68-6d4e-4b4d-995a-c9a937fc06e0",
   "metadata": {},
   "source": [
    "<mark style=\"padding: 2px 3px;\">**TODO: Have some backup content in case their is time remaining.**</mark>\n",
    "\n",
    "<mark style=\"padding: 2px 3px;\">**TODO: Add the notebook to an IM3 repo. Upload the data to Zenodo such that it can be accessed later. (reference it in the repo)**</mark>\n"
   ]
  },
  {
   "cell_type": "code",
   "execution_count": null,
   "id": "03c2d216-d835-4d71-a0b0-66c6194d1297",
   "metadata": {},
   "outputs": [],
   "source": []
  }
 ],
 "metadata": {
  "kernelspec": {
   "display_name": "wmpy",
   "language": "python",
   "name": "wmpy"
  },
  "language_info": {
   "codemirror_mode": {
    "name": "ipython",
    "version": 3
   },
   "file_extension": ".py",
   "mimetype": "text/x-python",
   "name": "python",
   "nbconvert_exporter": "python",
   "pygments_lexer": "ipython3",
   "version": "3.9.5"
  }
 },
 "nbformat": 4,
 "nbformat_minor": 5
}
